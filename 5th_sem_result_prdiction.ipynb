{
  "nbformat": 4,
  "nbformat_minor": 0,
  "metadata": {
    "colab": {
      "name": "5th_sem_result_prdiction.ipynb",
      "provenance": [],
      "include_colab_link": true
    },
    "kernelspec": {
      "name": "python3",
      "display_name": "Python 3"
    },
    "language_info": {
      "name": "python"
    }
  },
  "cells": [
    {
      "cell_type": "markdown",
      "metadata": {
        "id": "view-in-github",
        "colab_type": "text"
      },
      "source": [
        "<a href=\"https://colab.research.google.com/github/raza001/Data-Analysis/blob/main/5th_sem_result_prdiction.ipynb\" target=\"_parent\"><img src=\"https://colab.research.google.com/assets/colab-badge.svg\" alt=\"Open In Colab\"/></a>"
      ]
    },
    {
      "cell_type": "code",
      "metadata": {
        "id": "HIDBx2LexxgK"
      },
      "source": [
        "import numpy as np \n",
        "import matplotlib.pyplot as plt\n",
        "import plotly as p \n",
        "import seaborn as sns\n",
        "import pandas as pd "
      ],
      "execution_count": 66,
      "outputs": []
    },
    {
      "cell_type": "markdown",
      "metadata": {
        "id": "mQnhBwGrvOOt"
      },
      "source": [
        "# New Section"
      ]
    },
    {
      "cell_type": "code",
      "metadata": {
        "id": "RgLRN15ryrCq"
      },
      "source": [
        "df = pd.read_csv(\"/content/data.csv\") "
      ],
      "execution_count": 3,
      "outputs": []
    },
    {
      "cell_type": "code",
      "metadata": {
        "colab": {
          "base_uri": "https://localhost:8080/",
          "height": 206
        },
        "id": "SRBzzr5Qy8wp",
        "outputId": "7b4ff9d9-6c19-4f3c-ca67-fb1f10c04bd6"
      },
      "source": [
        "df.head()\n"
      ],
      "execution_count": 70,
      "outputs": [
        {
          "output_type": "execute_result",
          "data": {
            "text/html": [
              "<div>\n",
              "<style scoped>\n",
              "    .dataframe tbody tr th:only-of-type {\n",
              "        vertical-align: middle;\n",
              "    }\n",
              "\n",
              "    .dataframe tbody tr th {\n",
              "        vertical-align: top;\n",
              "    }\n",
              "\n",
              "    .dataframe thead th {\n",
              "        text-align: right;\n",
              "    }\n",
              "</style>\n",
              "<table border=\"1\" class=\"dataframe\">\n",
              "  <thead>\n",
              "    <tr style=\"text-align: right;\">\n",
              "      <th></th>\n",
              "      <th>1st</th>\n",
              "      <th>2nd</th>\n",
              "      <th>3rd</th>\n",
              "      <th>4th</th>\n",
              "      <th>5th</th>\n",
              "      <th>College Code</th>\n",
              "      <th>Gender</th>\n",
              "      <th>Roll no.</th>\n",
              "      <th>Subject Code</th>\n",
              "      <th>roll no.</th>\n",
              "    </tr>\n",
              "  </thead>\n",
              "  <tbody>\n",
              "    <tr>\n",
              "      <th>0</th>\n",
              "      <td>8.11</td>\n",
              "      <td>7.68</td>\n",
              "      <td>7.11</td>\n",
              "      <td>7.43</td>\n",
              "      <td>8.18</td>\n",
              "      <td>115</td>\n",
              "      <td>Female</td>\n",
              "      <td>17020</td>\n",
              "      <td>16</td>\n",
              "      <td>17135</td>\n",
              "    </tr>\n",
              "    <tr>\n",
              "      <th>1</th>\n",
              "      <td>6.48</td>\n",
              "      <td>5.90</td>\n",
              "      <td>4.15</td>\n",
              "      <td>4.29</td>\n",
              "      <td>4.96</td>\n",
              "      <td>115</td>\n",
              "      <td>Male</td>\n",
              "      <td>17021</td>\n",
              "      <td>16</td>\n",
              "      <td>17136</td>\n",
              "    </tr>\n",
              "    <tr>\n",
              "      <th>2</th>\n",
              "      <td>8.41</td>\n",
              "      <td>8.24</td>\n",
              "      <td>7.52</td>\n",
              "      <td>8.25</td>\n",
              "      <td>7.75</td>\n",
              "      <td>115</td>\n",
              "      <td>Female</td>\n",
              "      <td>17022</td>\n",
              "      <td>16</td>\n",
              "      <td>17137</td>\n",
              "    </tr>\n",
              "    <tr>\n",
              "      <th>3</th>\n",
              "      <td>7.33</td>\n",
              "      <td>6.83</td>\n",
              "      <td>6.33</td>\n",
              "      <td>6.79</td>\n",
              "      <td>6.89</td>\n",
              "      <td>115</td>\n",
              "      <td>Male</td>\n",
              "      <td>17023</td>\n",
              "      <td>16</td>\n",
              "      <td>17138</td>\n",
              "    </tr>\n",
              "    <tr>\n",
              "      <th>4</th>\n",
              "      <td>7.89</td>\n",
              "      <td>7.34</td>\n",
              "      <td>7.22</td>\n",
              "      <td>7.32</td>\n",
              "      <td>7.46</td>\n",
              "      <td>115</td>\n",
              "      <td>Male</td>\n",
              "      <td>17024</td>\n",
              "      <td>16</td>\n",
              "      <td>17139</td>\n",
              "    </tr>\n",
              "  </tbody>\n",
              "</table>\n",
              "</div>"
            ],
            "text/plain": [
              "    1st   2nd   3rd   4th  ...  Gender  Roll no. Subject Code  roll no.\n",
              "0  8.11  7.68  7.11  7.43  ...  Female     17020           16     17135\n",
              "1  6.48  5.90  4.15  4.29  ...    Male     17021           16     17136\n",
              "2  8.41  8.24  7.52  8.25  ...  Female     17022           16     17137\n",
              "3  7.33  6.83  6.33  6.79  ...    Male     17023           16     17138\n",
              "4  7.89  7.34  7.22  7.32  ...    Male     17024           16     17139\n",
              "\n",
              "[5 rows x 10 columns]"
            ]
          },
          "metadata": {},
          "execution_count": 70
        }
      ]
    },
    {
      "cell_type": "code",
      "metadata": {
        "id": "wtfyRxStKb58"
      },
      "source": [
        "x=df['5th']"
      ],
      "execution_count": 98,
      "outputs": []
    },
    {
      "cell_type": "code",
      "metadata": {
        "colab": {
          "base_uri": "https://localhost:8080/"
        },
        "id": "PG8Ycbggv8t3",
        "outputId": "a19764bc-d0ee-4a08-d21a-72446e78d4d0"
      },
      "source": [
        "print(x)"
      ],
      "execution_count": 99,
      "outputs": [
        {
          "output_type": "stream",
          "text": [
            "0      8.18\n",
            "1      4.96\n",
            "2      7.75\n",
            "3      6.89\n",
            "4      7.46\n",
            "       ... \n",
            "173    8.65\n",
            "174    7.38\n",
            "175    6.50\n",
            "176    6.92\n",
            "177    7.00\n",
            "Name: 5th, Length: 169, dtype: float64\n"
          ],
          "name": "stdout"
        }
      ]
    },
    {
      "cell_type": "code",
      "metadata": {
        "colab": {
          "base_uri": "https://localhost:8080/",
          "height": 206
        },
        "id": "JPBnbMXi9f5K",
        "outputId": "0883f23e-8744-4e7d-ba6d-75a17ed816e3"
      },
      "source": [
        "df.head()"
      ],
      "execution_count": 101,
      "outputs": [
        {
          "output_type": "execute_result",
          "data": {
            "text/html": [
              "<div>\n",
              "<style scoped>\n",
              "    .dataframe tbody tr th:only-of-type {\n",
              "        vertical-align: middle;\n",
              "    }\n",
              "\n",
              "    .dataframe tbody tr th {\n",
              "        vertical-align: top;\n",
              "    }\n",
              "\n",
              "    .dataframe thead th {\n",
              "        text-align: right;\n",
              "    }\n",
              "</style>\n",
              "<table border=\"1\" class=\"dataframe\">\n",
              "  <thead>\n",
              "    <tr style=\"text-align: right;\">\n",
              "      <th></th>\n",
              "      <th>1st</th>\n",
              "      <th>2nd</th>\n",
              "      <th>3rd</th>\n",
              "      <th>4th</th>\n",
              "      <th>5th</th>\n",
              "      <th>College Code</th>\n",
              "      <th>Gender</th>\n",
              "      <th>Roll no.</th>\n",
              "      <th>Subject Code</th>\n",
              "      <th>roll no.</th>\n",
              "    </tr>\n",
              "  </thead>\n",
              "  <tbody>\n",
              "    <tr>\n",
              "      <th>0</th>\n",
              "      <td>8.11</td>\n",
              "      <td>7.68</td>\n",
              "      <td>7.11</td>\n",
              "      <td>7.43</td>\n",
              "      <td>8.18</td>\n",
              "      <td>115</td>\n",
              "      <td>Female</td>\n",
              "      <td>17020</td>\n",
              "      <td>16</td>\n",
              "      <td>17135</td>\n",
              "    </tr>\n",
              "    <tr>\n",
              "      <th>1</th>\n",
              "      <td>6.48</td>\n",
              "      <td>5.90</td>\n",
              "      <td>4.15</td>\n",
              "      <td>4.29</td>\n",
              "      <td>4.96</td>\n",
              "      <td>115</td>\n",
              "      <td>Male</td>\n",
              "      <td>17021</td>\n",
              "      <td>16</td>\n",
              "      <td>17136</td>\n",
              "    </tr>\n",
              "    <tr>\n",
              "      <th>2</th>\n",
              "      <td>8.41</td>\n",
              "      <td>8.24</td>\n",
              "      <td>7.52</td>\n",
              "      <td>8.25</td>\n",
              "      <td>7.75</td>\n",
              "      <td>115</td>\n",
              "      <td>Female</td>\n",
              "      <td>17022</td>\n",
              "      <td>16</td>\n",
              "      <td>17137</td>\n",
              "    </tr>\n",
              "    <tr>\n",
              "      <th>3</th>\n",
              "      <td>7.33</td>\n",
              "      <td>6.83</td>\n",
              "      <td>6.33</td>\n",
              "      <td>6.79</td>\n",
              "      <td>6.89</td>\n",
              "      <td>115</td>\n",
              "      <td>Male</td>\n",
              "      <td>17023</td>\n",
              "      <td>16</td>\n",
              "      <td>17138</td>\n",
              "    </tr>\n",
              "    <tr>\n",
              "      <th>4</th>\n",
              "      <td>7.89</td>\n",
              "      <td>7.34</td>\n",
              "      <td>7.22</td>\n",
              "      <td>7.32</td>\n",
              "      <td>7.46</td>\n",
              "      <td>115</td>\n",
              "      <td>Male</td>\n",
              "      <td>17024</td>\n",
              "      <td>16</td>\n",
              "      <td>17139</td>\n",
              "    </tr>\n",
              "  </tbody>\n",
              "</table>\n",
              "</div>"
            ],
            "text/plain": [
              "    1st   2nd   3rd   4th  ...  Gender  Roll no. Subject Code  roll no.\n",
              "0  8.11  7.68  7.11  7.43  ...  Female     17020           16     17135\n",
              "1  6.48  5.90  4.15  4.29  ...    Male     17021           16     17136\n",
              "2  8.41  8.24  7.52  8.25  ...  Female     17022           16     17137\n",
              "3  7.33  6.83  6.33  6.79  ...    Male     17023           16     17138\n",
              "4  7.89  7.34  7.22  7.32  ...    Male     17024           16     17139\n",
              "\n",
              "[5 rows x 10 columns]"
            ]
          },
          "metadata": {},
          "execution_count": 101
        }
      ]
    },
    {
      "cell_type": "code",
      "metadata": {
        "id": "-aGKwYd0z8v5"
      },
      "source": [
        "y=df[['1st','2nd','3rd','4th']]"
      ],
      "execution_count": 102,
      "outputs": []
    },
    {
      "cell_type": "code",
      "metadata": {
        "colab": {
          "base_uri": "https://localhost:8080/"
        },
        "id": "pCHqNe7G0vEp",
        "outputId": "147368bf-ec79-4632-d12e-88d05891b699"
      },
      "source": [
        "print(y)"
      ],
      "execution_count": 103,
      "outputs": [
        {
          "output_type": "stream",
          "text": [
            "      1st   2nd   3rd   4th\n",
            "0    8.11  7.68  7.11  7.43\n",
            "1    6.48  5.90  4.15  4.29\n",
            "2    8.41  8.24  7.52  8.25\n",
            "3    7.33  6.83  6.33  6.79\n",
            "4    7.89  7.34  7.22  7.32\n",
            "..    ...   ...   ...   ...\n",
            "173  7.48  7.55  7.67  7.39\n",
            "174  7.30  6.41  6.59  7.11\n",
            "175  6.30  6.28  5.89  5.71\n",
            "176  7.04  7.10  6.81  7.00\n",
            "177  6.70  6.81  6.52  5.39\n",
            "\n",
            "[169 rows x 4 columns]\n"
          ],
          "name": "stdout"
        }
      ]
    },
    {
      "cell_type": "code",
      "metadata": {
        "id": "ulnmIds--iHJ"
      },
      "source": [
        "from sklearn.model_selection import train_test_split\n",
        "x_train,x_test,y_train,y_test=train_test_split(x,y,test_size=0.3, random_state=0)"
      ],
      "execution_count": 104,
      "outputs": []
    },
    {
      "cell_type": "code",
      "metadata": {
        "colab": {
          "base_uri": "https://localhost:8080/"
        },
        "id": "mrfXnr79APMY",
        "outputId": "8b1d7842-6a9d-4d97-9ea5-23b92e68cf19"
      },
      "source": [
        "from sklearn.linear_model import LinearRegression\n",
        "ml=LinearRegression()\n",
        "ml.fit(y_train,x_train)"
      ],
      "execution_count": 105,
      "outputs": [
        {
          "output_type": "execute_result",
          "data": {
            "text/plain": [
              "LinearRegression(copy_X=True, fit_intercept=True, n_jobs=None, normalize=False)"
            ]
          },
          "metadata": {},
          "execution_count": 105
        }
      ]
    },
    {
      "cell_type": "code",
      "metadata": {
        "id": "2e22WvxSG0Cd"
      },
      "source": [
        "x_pred=ml.predict(y_test)"
      ],
      "execution_count": 106,
      "outputs": []
    },
    {
      "cell_type": "code",
      "metadata": {
        "colab": {
          "base_uri": "https://localhost:8080/"
        },
        "id": "K5kbLKnNHkE0",
        "outputId": "03f6566f-6c78-4ade-cc89-e60007718756"
      },
      "source": [
        "ml.predict([[8.11,7.68,7.11,7.43]])"
      ],
      "execution_count": 107,
      "outputs": [
        {
          "output_type": "execute_result",
          "data": {
            "text/plain": [
              "array([7.87864076])"
            ]
          },
          "metadata": {},
          "execution_count": 107
        }
      ]
    },
    {
      "cell_type": "code",
      "metadata": {
        "colab": {
          "base_uri": "https://localhost:8080/"
        },
        "id": "ImteHH3PIx5m",
        "outputId": "09be90f5-507c-4818-e81a-c8d13f60f5c5"
      },
      "source": [
        "from sklearn.metrics import r2_score\n",
        "r2_score(x_test,x_pred)"
      ],
      "execution_count": 108,
      "outputs": [
        {
          "output_type": "execute_result",
          "data": {
            "text/plain": [
              "0.7856673109489328"
            ]
          },
          "metadata": {},
          "execution_count": 108
        }
      ]
    },
    {
      "cell_type": "code",
      "metadata": {
        "colab": {
          "base_uri": "https://localhost:8080/",
          "height": 748
        },
        "id": "5i4d8j2lQOqY",
        "outputId": "06ef91a9-e800-4d41-9957-37dcc2f6837c"
      },
      "source": [
        "plt.figure(figsize=(17,12))\n",
        "plt.scatter(x_test,x_pred)\n",
        "plt.xlabel('Predicted')\n",
        "plt.ylabel('Actual')\n",
        "plt.title('Predicted vs. Actual')"
      ],
      "execution_count": 109,
      "outputs": [
        {
          "output_type": "execute_result",
          "data": {
            "text/plain": [
              "Text(0.5, 1.0, 'Predicted vs. Actual')"
            ]
          },
          "metadata": {},
          "execution_count": 109
        },
        {
          "output_type": "display_data",
          "data": {
            "image/png": "[encoded data removed]",
            "text/plain": [
              "<Figure size 1224x864 with 1 Axes>"
            ]
          },
          "metadata": {
            "needs_background": "light"
          }
        }
      ]
    },
    {
      "cell_type": "markdown",
      "metadata": {
        "id": "yyCHl9fp5aj8"
      },
      "source": [
        ""
      ]
    },
    {
      "cell_type": "code",
      "metadata": {
        "id": "3J314gczCWkU",
        "outputId": "cf3d74d5-0615-464d-a0f1-38b67d12cfb4",
        "colab": {
          "base_uri": "https://localhost:8080/"
        }
      },
      "source": [
        "print(x_pred)"
      ],
      "execution_count": 110,
      "outputs": [
        {
          "output_type": "stream",
          "text": [
            "[7.74096425 7.70286868 7.34803434 8.09713754 8.46872583 8.24419289\n",
            " 6.25357324 7.0492769  7.34052995 7.48031969 8.51281909 6.10104981\n",
            " 6.13655938 6.3568302  6.73507712 8.15417245 6.69894928 6.64667837\n",
            " 8.56986792 8.29020618 8.63397691 9.04108219 8.13580949 7.5504379\n",
            " 8.99307    7.10021406 7.08224355 7.4367969  7.90414106 8.42928676\n",
            " 8.00147625 7.73892657 8.11479064 8.16241609 6.82689135 7.5418448\n",
            " 8.20127974 7.83080062 6.27022453 7.42368105 7.98164174 8.4854335\n",
            " 8.29584484 7.44844097 7.21371098 8.88789972 5.66326179 7.51992001\n",
            " 8.55847251 8.62546054 5.37110352]\n"
          ],
          "name": "stdout"
        }
      ]
    },
    {
      "cell_type": "code",
      "metadata": {
        "id": "u3PvJOKgCZ-1",
        "outputId": "52e09509-3bb9-41f6-eb13-20e29e6e4304",
        "colab": {
          "base_uri": "https://localhost:8080/"
        }
      },
      "source": [
        "print(x_test)"
      ],
      "execution_count": 111,
      "outputs": [
        {
          "output_type": "stream",
          "text": [
            "159    7.38\n",
            "56     7.39\n",
            "129    7.79\n",
            "61     8.29\n",
            "105    8.54\n",
            "51     8.39\n",
            "7      6.75\n",
            "5      7.39\n",
            "90     6.96\n",
            "142    7.71\n",
            "54     8.68\n",
            "99     6.21\n",
            "165    4.77\n",
            "106    6.18\n",
            "77     6.18\n",
            "45     8.11\n",
            "78     6.86\n",
            "102    5.86\n",
            "146    8.38\n",
            "101    8.14\n",
            "112    8.00\n",
            "111    9.11\n",
            "158    8.65\n",
            "176    6.92\n",
            "55     9.39\n",
            "160    6.96\n",
            "26     6.89\n",
            "150    6.62\n",
            "163    7.35\n",
            "33     8.75\n",
            "8      8.00\n",
            "113    8.21\n",
            "128    8.32\n",
            "37     8.14\n",
            "64     7.00\n",
            "44     6.93\n",
            "24     7.64\n",
            "66     8.11\n",
            "94     6.00\n",
            "19     7.32\n",
            "136    8.36\n",
            "157    8.15\n",
            "145    7.31\n",
            "16     7.29\n",
            "69     8.39\n",
            "143    8.38\n",
            "40     4.86\n",
            "167    7.04\n",
            "22     8.21\n",
            "75     8.04\n",
            "100    4.96\n",
            "Name: 5th, dtype: float64\n"
          ],
          "name": "stdout"
        }
      ]
    },
    {
      "cell_type": "code",
      "metadata": {
        "id": "GE8FGaX6DL_d"
      },
      "source": [
        "df = pd.DataFrame({'Actual': x_test, 'Predicted': x_pred})\n",
        "df1 = df.head(25)"
      ],
      "execution_count": 112,
      "outputs": []
    },
    {
      "cell_type": "code",
      "metadata": {
        "id": "ve4fU0FtDVUk",
        "outputId": "5ee1499e-2620-4aa6-abe6-3bc477e6d7b3",
        "colab": {
          "base_uri": "https://localhost:8080/"
        }
      },
      "source": [
        "print(df1)"
      ],
      "execution_count": 113,
      "outputs": [
        {
          "output_type": "stream",
          "text": [
            "     Actual  Predicted\n",
            "159    7.38   7.740964\n",
            "56     7.39   7.702869\n",
            "129    7.79   7.348034\n",
            "61     8.29   8.097138\n",
            "105    8.54   8.468726\n",
            "51     8.39   8.244193\n",
            "7      6.75   6.253573\n",
            "5      7.39   7.049277\n",
            "90     6.96   7.340530\n",
            "142    7.71   7.480320\n",
            "54     8.68   8.512819\n",
            "99     6.21   6.101050\n",
            "165    4.77   6.136559\n",
            "106    6.18   6.356830\n",
            "77     6.18   6.735077\n",
            "45     8.11   8.154172\n",
            "78     6.86   6.698949\n",
            "102    5.86   6.646678\n",
            "146    8.38   8.569868\n",
            "101    8.14   8.290206\n",
            "112    8.00   8.633977\n",
            "111    9.11   9.041082\n",
            "158    8.65   8.135809\n",
            "176    6.92   7.550438\n",
            "55     9.39   8.993070\n"
          ],
          "name": "stdout"
        }
      ]
    },
    {
      "cell_type": "code",
      "metadata": {
        "id": "lMbaBIh8DcWl"
      },
      "source": [
        "df = pd.DataFrame({'Actual': x_test, 'Predicted': x_pred,'Difference':x_test - x_pred})\n",
        "df12 = df.head(25)"
      ],
      "execution_count": 115,
      "outputs": []
    },
    {
      "cell_type": "code",
      "metadata": {
        "id": "jBvuUIhtEfdV",
        "outputId": "39b069dc-4f24-491c-d2b8-8afd9568e11f",
        "colab": {
          "base_uri": "https://localhost:8080/"
        }
      },
      "source": [
        "print(df12)"
      ],
      "execution_count": 116,
      "outputs": [
        {
          "output_type": "stream",
          "text": [
            "     Actual  Predicted  Difference\n",
            "159    7.38   7.740964   -0.360964\n",
            "56     7.39   7.702869   -0.312869\n",
            "129    7.79   7.348034    0.441966\n",
            "61     8.29   8.097138    0.192862\n",
            "105    8.54   8.468726    0.071274\n",
            "51     8.39   8.244193    0.145807\n",
            "7      6.75   6.253573    0.496427\n",
            "5      7.39   7.049277    0.340723\n",
            "90     6.96   7.340530   -0.380530\n",
            "142    7.71   7.480320    0.229680\n",
            "54     8.68   8.512819    0.167181\n",
            "99     6.21   6.101050    0.108950\n",
            "165    4.77   6.136559   -1.366559\n",
            "106    6.18   6.356830   -0.176830\n",
            "77     6.18   6.735077   -0.555077\n",
            "45     8.11   8.154172   -0.044172\n",
            "78     6.86   6.698949    0.161051\n",
            "102    5.86   6.646678   -0.786678\n",
            "146    8.38   8.569868   -0.189868\n",
            "101    8.14   8.290206   -0.150206\n",
            "112    8.00   8.633977   -0.633977\n",
            "111    9.11   9.041082    0.068918\n",
            "158    8.65   8.135809    0.514191\n",
            "176    6.92   7.550438   -0.630438\n",
            "55     9.39   8.993070    0.396930\n"
          ],
          "name": "stdout"
        }
      ]
    }
  ]
}